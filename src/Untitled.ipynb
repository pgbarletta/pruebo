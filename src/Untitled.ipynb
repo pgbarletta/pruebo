{
 "cells": [
  {
   "cell_type": "code",
   "execution_count": 1,
   "metadata": {},
   "outputs": [],
   "source": [
    "#pragma cling add_include_path(\"/home/german/CGAL-4.12/build/install/include\")\n",
    "#pragma cling add_library_path(\"/home/german/CGAL-4.12/build/install/lib\")\n",
    "#pragma cling load(\"libCGAL.so\")\n",
    "#pragma cling load(\"libCGAL_Core.so\")"
   ]
  },
  {
   "cell_type": "code",
   "execution_count": 2,
   "metadata": {},
   "outputs": [],
   "source": [
    "#include <CGAL/Exact_predicates_inexact_constructions_kernel.h>\n",
    "#include <CGAL/Polyhedron_3.h>\n",
    "#include <CGAL/Surface_mesh.h>\n",
    "#include <CGAL/convex_hull_3.h>\n",
    "#include <vector>\n",
    "#include <fstream>\n",
    "#include <iostream>"
   ]
  },
  {
   "cell_type": "code",
   "execution_count": 3,
   "metadata": {},
   "outputs": [],
   "source": [
    "typedef CGAL::Exact_predicates_inexact_constructions_kernel  K;\n",
    "typedef CGAL::Polyhedron_3<K>                     Polyhedron_3;\n",
    "typedef K::Point_3                                Point_3;\n",
    "typedef CGAL::Surface_mesh<Point_3>               Surface_mesh;"
   ]
  },
  {
   "cell_type": "code",
   "execution_count": 4,
   "metadata": {},
   "outputs": [],
   "source": [
    "Point_3 atos(1., 2., 3.);"
   ]
  },
  {
   "cell_type": "code",
   "execution_count": 5,
   "metadata": {},
   "outputs": [
    {
     "name": "stdout",
     "output_type": "stream",
     "text": [
      "1 2 3\n"
     ]
    },
    {
     "data": {
      "text/plain": [
       "@0x349af40"
      ]
     },
     "execution_count": 5,
     "metadata": {},
     "output_type": "execute_result"
    }
   ],
   "source": [
    "std::cout << atos << '\\n'"
   ]
  },
  {
   "cell_type": "code",
   "execution_count": null,
   "metadata": {},
   "outputs": [],
   "source": []
  }
 ],
 "metadata": {
  "kernelspec": {
   "display_name": "C++14",
   "language": "C++14",
   "name": "xeus-cling-cpp14"
  },
  "language_info": {
   "codemirror_mode": "text/x-c++src",
   "file_extension": ".cpp",
   "mimetype": "text/x-c++src",
   "name": "c++",
   "version": "14"
  }
 },
 "nbformat": 4,
 "nbformat_minor": 2
}
